{
 "cells": [
  {
   "cell_type": "markdown",
   "id": "817221c9",
   "metadata": {},
   "source": [
    "# L9: Building LLM prompts with variables"
   ]
  },
  {
   "cell_type": "markdown",
   "id": "36029c06",
   "metadata": {},
   "source": [
    "In the next cell, you will import the function `print_llm_response` that uses an LLM with an instruction that you provide as a string and displays the result."
   ]
  },
  {
   "cell_type": "code",
   "execution_count": 47,
   "id": "cc237f34",
   "metadata": {
    "height": 29
   },
   "outputs": [],
   "source": [
    "from helper_functions import print_llm_response"
   ]
  },
  {
   "cell_type": "markdown",
   "id": "3074c1f9",
   "metadata": {},
   "source": [
    "Basically, you can use that function as if you were asking a chatbot. You just need to provide your instructions as a string. For instance, you can ask \"What is the capital of France?\" using the following code:"
   ]
  },
  {
   "cell_type": "code",
   "execution_count": 46,
   "id": "afcf6686",
   "metadata": {
    "height": 29
   },
   "outputs": [
    {
     "name": "stdout",
     "output_type": "stream",
     "text": [
      "The capital of France is Paris.\n"
     ]
    }
   ],
   "source": [
    "print_llm_response(\"What is the capital of France?\")"
   ]
  },
  {
   "cell_type": "markdown",
   "id": "7e164d69",
   "metadata": {},
   "source": [
    "Let's ask the LLM for the lifestyle description for Otto Matic, whose name is stored in `name`, if he were a `dog_age` years old dog."
   ]
  },
  {
   "cell_type": "code",
   "execution_count": 45,
   "id": "196644ca",
   "metadata": {
    "height": 46
   },
   "outputs": [],
   "source": [
    "name = \"Otto Matic\"\n",
    "dog_age = 21/7"
   ]
  },
  {
   "cell_type": "code",
   "execution_count": 44,
   "id": "ad18f441",
   "metadata": {
    "height": 80
   },
   "outputs": [
    {
     "name": "stdout",
     "output_type": "stream",
     "text": [
      "At 3.0 years old, Otto Matic would be considered an adult dog. This life stage typically entails high energy levels, a strong interest in play and exercise, and a continued need for mental stimulation. Adult dogs may exhibit more independence but still require regular physical activity and social interaction to stay healthy and happy. They may also display more stable behavior patterns compared to younger dogs, but training and socialization remain important for their overall well-being.\n"
     ]
    }
   ],
   "source": [
    "print_llm_response(f\"\"\"If {name} were a dog, he would be {dog_age} years old.\n",
    "Describe what life stage that would be for a dog and what that might \n",
    "entail in terms of energy level, interests, and behavior.\"\"\")"
   ]
  },
  {
   "cell_type": "markdown",
   "id": "8349cb53",
   "metadata": {},
   "source": [
    "<b>You just used AI with your own variables!</b> You used an LLM with instructions that included variables you defined in this notebook.\n",
    "\n",
    "<b>Congratulations 🎉🎉🎉</b>"
   ]
  },
  {
   "cell_type": "markdown",
   "id": "51181411",
   "metadata": {},
   "source": [
    "## Variable names restrictions"
   ]
  },
  {
   "cell_type": "markdown",
   "id": "89d94522",
   "metadata": {},
   "source": [
    "The following variable names also have some problems. Try to fix them yourself or use the help from the chatbot."
   ]
  },
  {
   "cell_type": "code",
   "execution_count": 43,
   "id": "af96e951",
   "metadata": {
    "height": 80
   },
   "outputs": [],
   "source": [
    "driver = \"unicorn\"\n",
    "drivers_vehicle = \"colorful, asymmetric dinosaur car\"\n",
    "favorite_planet = \"Pluto\""
   ]
  },
  {
   "cell_type": "markdown",
   "id": "59a3a881",
   "metadata": {},
   "source": [
    "Now, update the next cell with any changes you made in the previous cell."
   ]
  },
  {
   "cell_type": "code",
   "execution_count": 41,
   "id": "02b7e02c",
   "metadata": {
    "height": 80
   },
   "outputs": [
    {
     "name": "stdout",
     "output_type": "stream",
     "text": [
      "Once upon a time in a magical land far, far away, there was a unicorn named Sparkle who loved to race. Sparkle had heard about the prestigious Pluto Champion Cup, a race that only the bravest and fastest creatures could compete in. Determined to win, Sparkle trained day and night, running through fields and practicing her speed.\n",
      "\n",
      "On the day of the race, Sparkle arrived at the starting line and saw her competition - a colorful, asymmetric dinosaur car driven by a fierce dinosaur named Roary. The crowd gasped at the sight of the unusual vehicle, but Sparkle remained focused on the prize.\n",
      "\n",
      "The race began, and Sparkle and Roary raced through the winding tracks of Pluto, dodging obstacles and zooming past competitors. Sparkle's hooves pounded against the ground as she galloped with all her might, her mane flowing behind her like a rainbow.\n",
      "\n",
      "Roary's dinosaur car roared with power, its colorful scales shimmering in the sunlight. The race was neck and neck, with both competitors giving it their all. But in the final stretch, Sparkle summoned all her strength and surged ahead, crossing the finish line just a hoof-length before Roary.\n",
      "\n",
      "The crowd erupted into cheers as Sparkle was crowned the winner of the Pluto Champion Cup. She was awarded a sparkling trophy and a bouquet of flowers, her heart filled with pride and joy. Roary congratulated Sparkle on her victory, and the two competitors shared a friendly hug.\n",
      "\n",
      "From that day on, Sparkle and Roary became the best of friends, racing together through the galaxies and spreading joy wherever they went. And so, the tale of the unicorn and the dinosaur car became a legend, inspiring creatures of all kinds to chase their dreams and never give up.\n"
     ]
    }
   ],
   "source": [
    "print_llm_response(f\"\"\"Write me a 300 word children's story about a {driver} racing\n",
    "a {drivers_vehicle} for the {favorite_planet}\n",
    "champion cup.\"\"\")"
   ]
  },
  {
   "cell_type": "markdown",
   "id": "98ec7de7",
   "metadata": {},
   "source": [
    "## Extra practice\n",
    "\n",
    "Try the exercises below to practice the concepts from this lesson. Read the comments in each cell with the instructions for each exercise.\n",
    "\n",
    "<b>Feel free to use the chatbot if you need help.</b>"
   ]
  },
  {
   "cell_type": "code",
   "execution_count": 36,
   "id": "9fb2bd26",
   "metadata": {
    "height": 148
   },
   "outputs": [
    {
     "ename": "SyntaxError",
     "evalue": "invalid syntax (1066094897.py, line 2)",
     "output_type": "error",
     "traceback": [
      "\u001b[0;36m  Cell \u001b[0;32mIn[36], line 2\u001b[0;36m\u001b[0m\n\u001b[0;31m    1favorite-book = \"1001 Ways to Wear a Hat\"\u001b[0m\n\u001b[0m     ^\u001b[0m\n\u001b[0;31mSyntaxError\u001b[0m\u001b[0;31m:\u001b[0m invalid syntax\n"
     ]
    }
   ],
   "source": [
    "# Fix this code\n",
    "1favorite-book = \"1001 Ways to Wear a Hat\"\n",
    "\"2002 Ways to Wear a Scarf\" = second_fav_book\n",
    "print(f\"My most favorite book is {1favorite-book}, but I also like {second_fav_book})\n",
    "      favorite_book = \"1001 Ways to Wear a Hat\"\n",
    "second_fav_book = \"2002 Ways to Wear a Scarf\"\n",
    "print(f\"My most favorite book is {favorite_book}, but I also like {second_fav_book}\")"
   ]
  },
  {
   "cell_type": "code",
   "execution_count": 35,
   "id": "407023e6",
   "metadata": {
    "height": 352
   },
   "outputs": [
    {
     "name": "stdout",
     "output_type": "stream",
     "text": [
      "How can I assist you today?\n",
      "Sure! I recommend you listen to \"Lost Woods\" from The Legend of Zelda: Ocarina of Time soundtrack.\n"
     ]
    }
   ],
   "source": [
    "# Make variables for your favorite game, movie, and food.\n",
    "# Then use print_llm_response to ask the LLM to recommend you\n",
    "# a new song to listen to based on your likes.\n",
    "\n",
    "print_llm_response(f\"\"\"\n",
    "\n",
    "\"\"\")\n",
    "favorite_game = \"The Legend of Zelda\"\n",
    "favorite_movie = \"The Lion King\"\n",
    "favorite_food = \"Pizza\"\n",
    "\n",
    "print_llm_response(f\"\"\"\n",
    "Based on my favorites:\n",
    "- Game: {favorite_game}\n",
    "- Movie: {favorite_movie}\n",
    "- Food: {favorite_food}\n",
    "\n",
    "Can you recommend me a new song to listen to?\n",
    "\"\"\")"
   ]
  }
 ],
 "metadata": {
  "kernelspec": {
   "display_name": "Python 3 (ipykernel)",
   "language": "python",
   "name": "python3"
  },
  "language_info": {
   "codemirror_mode": {
    "name": "ipython",
    "version": 3
   },
   "file_extension": ".py",
   "mimetype": "text/x-python",
   "name": "python",
   "nbconvert_exporter": "python",
   "pygments_lexer": "ipython3",
   "version": "3.9.19"
  }
 },
 "nbformat": 4,
 "nbformat_minor": 5
}
